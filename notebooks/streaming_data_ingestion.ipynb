{
 "cells": [
  {
   "cell_type": "code",
   "execution_count": 1,
   "id": "0ec0b064-08f9-4c04-be5f-0014ae1733c2",
   "metadata": {},
   "outputs": [],
   "source": [
    "import csv\n",
    "from kafka import KafkaProducer\n",
    "import json\n"
   ]
  },
  {
   "cell_type": "code",
   "execution_count": 2,
   "id": "fc6c5ce7-d620-4deb-9c74-b465603591bd",
   "metadata": {},
   "outputs": [],
   "source": [
    "producer = KafkaProducer(\n",
    "    bootstrap_servers='kafka:9092',  # Change this if your Kafka broker has a different address\n",
    "    value_serializer=lambda v: json.dumps(v).encode('utf-8')\n",
    ")\n"
   ]
  },
  {
   "cell_type": "code",
   "execution_count": 3,
   "id": "9336a68c-6c5e-46f6-b0ea-dbabb90ef9db",
   "metadata": {},
   "outputs": [],
   "source": [
    "topic_name = 'eth_txs_topic'\n",
    "\n",
    "with open('./ethereum_txs.csv', mode='r') as file:\n",
    "    reader = csv.DictReader(file)\n",
    "    for row in reader:\n",
    "        producer.send(topic_name, value=row)"
   ]
  }
 ],
 "metadata": {
  "kernelspec": {
   "display_name": "Python 3 (ipykernel)",
   "language": "python",
   "name": "python3"
  },
  "language_info": {
   "codemirror_mode": {
    "name": "ipython",
    "version": 3
   },
   "file_extension": ".py",
   "mimetype": "text/x-python",
   "name": "python",
   "nbconvert_exporter": "python",
   "pygments_lexer": "ipython3",
   "version": "3.11.6"
  }
 },
 "nbformat": 4,
 "nbformat_minor": 5
}
